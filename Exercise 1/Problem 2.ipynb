{
 "cells": [
  {
   "cell_type": "markdown",
   "id": "ac47f9af",
   "metadata": {},
   "source": [
    "# Solving Problem 2\n",
    "\n"
   ]
  },
  {
   "cell_type": "markdown",
   "id": "21a69722",
   "metadata": {},
   "source": [
    "## Importing the Pandas Library"
   ]
  },
  {
   "cell_type": "code",
   "execution_count": 1,
   "id": "d6fb7ebc",
   "metadata": {},
   "outputs": [],
   "source": [
    "import pandas as pd"
   ]
  },
  {
   "cell_type": "markdown",
   "id": "24e63eba",
   "metadata": {},
   "source": [
    "## a) pd_read_html('URL'), Importing a table via HTML page from Wikipedia page"
   ]
  },
  {
   "cell_type": "code",
   "execution_count": 2,
   "id": "b411a4da",
   "metadata": {},
   "outputs": [],
   "source": [
    "data = pd.read_html('https://en.wikipedia.org/wiki/2016_Summer_Olympics_medal_table')"
   ]
  },
  {
   "cell_type": "markdown",
   "id": "4ee17aa8",
   "metadata": {},
   "source": [
    "## using type to check the datatype of the importing data page"
   ]
  },
  {
   "cell_type": "code",
   "execution_count": 3,
   "id": "c4f4f5c0",
   "metadata": {},
   "outputs": [
    {
     "data": {
      "text/plain": [
       "list"
      ]
     },
     "execution_count": 3,
     "metadata": {},
     "output_type": "execute_result"
    }
   ],
   "source": [
    "type(data)"
   ]
  },
  {
   "cell_type": "markdown",
   "id": "a77a9308",
   "metadata": {},
   "source": [
    "## b) using len to get the number of tables in the page"
   ]
  },
  {
   "cell_type": "code",
   "execution_count": 4,
   "id": "2a6fcef0",
   "metadata": {},
   "outputs": [
    {
     "data": {
      "text/plain": [
       "8"
      ]
     },
     "execution_count": 4,
     "metadata": {},
     "output_type": "execute_result"
    }
   ],
   "source": [
    "len(data)"
   ]
  },
  {
   "cell_type": "markdown",
   "id": "bd3c9f44",
   "metadata": {},
   "source": [
    "## c) converting each table into a dataframe and checking 1 by 1 which is the table for olympics results, it is table 3"
   ]
  },
  {
   "cell_type": "markdown",
   "id": "12dfd1d7",
   "metadata": {},
   "source": [
    "## d) using medalsDf=data[3] stores the data into a dataframe"
   ]
  },
  {
   "cell_type": "code",
   "execution_count": 23,
   "id": "b156c6f8",
   "metadata": {},
   "outputs": [
    {
     "name": "stdout",
     "output_type": "stream",
     "text": [
      "                   Rank                   NOC  Gold  Silver  Bronze  Total\n",
      "0                     1         United States    46      37      38    121\n",
      "1                     2         Great Britain    27      23      17     67\n",
      "2                     3                 China    26      18      26     70\n",
      "3                     4                Russia    19      17      20     56\n",
      "4                     5               Germany    17      10      15     42\n",
      "..                  ...                   ...   ...     ...     ...    ...\n",
      "82                   78               Nigeria     0       0       1      1\n",
      "83                   78              Portugal     0       0       1      1\n",
      "84                   78   Trinidad and Tobago     0       0       1      1\n",
      "85                   78  United Arab Emirates     0       0       1      1\n",
      "86  Totals (86 entries)   Totals (86 entries)   306     307     359    972\n",
      "\n",
      "[87 rows x 6 columns]\n"
     ]
    }
   ],
   "source": [
    "medalsDf=data[3]\n",
    "print(medalsDf)"
   ]
  },
  {
   "cell_type": "markdown",
   "id": "78777e05",
   "metadata": {},
   "source": [
    "## e) Extracting the top 20 countries in the medal table and storing the rows in a new df"
   ]
  },
  {
   "cell_type": "code",
   "execution_count": 22,
   "id": "ade0b1b7",
   "metadata": {},
   "outputs": [
    {
     "name": "stdout",
     "output_type": "stream",
     "text": [
      "   Rank            NOC  Gold  Silver  Bronze  Total\n",
      "0     1  United States    46      37      38    121\n",
      "1     2  Great Britain    27      23      17     67\n",
      "2     3          China    26      18      26     70\n",
      "3     4         Russia    19      17      20     56\n",
      "4     5        Germany    17      10      15     42\n",
      "5     6          Japan    12       8      21     41\n",
      "6     7         France    10      18      14     42\n",
      "7     8    South Korea     9       3       9     21\n",
      "8     9          Italy     8      12       8     28\n",
      "9    10      Australia     8      11      10     29\n",
      "10   11    Netherlands     8       7       4     19\n",
      "11   12        Hungary     8       3       4     15\n",
      "12   13        Brazil*     7       6       6     19\n",
      "13   14          Spain     7       4       6     17\n",
      "14   15          Kenya     6       6       1     13\n",
      "15   16        Jamaica     6       3       2     11\n",
      "16   17        Croatia     5       3       2     10\n",
      "17   18           Cuba     5       2       4     11\n",
      "18   19    New Zealand     4       9       5     18\n",
      "19   20         Canada     4       3      15     22\n"
     ]
    }
   ],
   "source": [
    "top20df = df.iloc[0:20]\n",
    "print(top20df)"
   ]
  }
 ],
 "metadata": {
  "kernelspec": {
   "display_name": "Python 3 (ipykernel)",
   "language": "python",
   "name": "python3"
  },
  "language_info": {
   "codemirror_mode": {
    "name": "ipython",
    "version": 3
   },
   "file_extension": ".py",
   "mimetype": "text/x-python",
   "name": "python",
   "nbconvert_exporter": "python",
   "pygments_lexer": "ipython3",
   "version": "3.11.5"
  }
 },
 "nbformat": 4,
 "nbformat_minor": 5
}
